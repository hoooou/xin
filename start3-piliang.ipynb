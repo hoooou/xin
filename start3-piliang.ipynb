{
 "cells": [
  {
   "cell_type": "code",
   "execution_count": 8,
   "id": "35aab392",
   "metadata": {},
   "outputs": [],
   "source": [
    "import backtrader as bt\n",
    "import datetime as datetime\n",
    "from backtrader_plotting import Bokeh"
   ]
  },
  {
   "cell_type": "code",
   "execution_count": 9,
   "id": "f95ff47f",
   "metadata": {},
   "outputs": [],
   "source": [
    "# 创建策略继承bt.Strategy\n",
    "class TestStrategy(bt.Strategy):\n",
    "    params = (\n",
    "        # 持仓够5个单位就卖出\n",
    "        ('exitbars', 5),\n",
    "        ('maperiod', 10),\n",
    "    )\n",
    "\n",
    "    def log(self, txt, dt=None, printLog=False):\n",
    "        # 记录策略的执行日志\n",
    "        dt = dt or self.datas[0].datetime.date(0)\n",
    "        if printLog:\n",
    "            print('%s, %s \\n' % (dt.isoformat(), txt))\n",
    "\n",
    "    def stop(self):\n",
    "        self.log(\"(均线周期 %d)期末资金 %.2f\" %\n",
    "                 (self.params.maperiod, self.broker.getvalue()), printLog=True)\n",
    "\n",
    "    def __init__(self):\n",
    "        # 保存收盘价的引用\n",
    "        self.dataclose = self.datas[0].close\n",
    "        self.sma = bt.indicators.MovingAverageSimple(\n",
    "            self.datas[0], period=self.params.maperiod)\n",
    "#         bt.indicators.ExponentialMovingAverage(self.datas[0], period=25)\n",
    "#         bt.indicators.WeightedMovingAverage(self.datas[0], period=25).subplot = True\n",
    "#         self.rsi = bt.indicators.RSI(self.sma)\n",
    "#         bt.indicators.SmoothedMovingAverage(self.rsi, period=10)\n",
    "#         bt.indicators.ATR(self.datas[0]).plot = False\n",
    "#         bt.indicators.StochasticSlow(self.datas[0])\n",
    "#         self.macd=bt.indicators.MACDHisto(self.datas[0])\n",
    "\n",
    "        # 跟踪挂单\n",
    "        self.order = None\n",
    "        # 买入价格和手续费\n",
    "        self.buyprice = None\n",
    "        self.buycomm = None\n",
    "\n",
    "    # 交易状态通知，一买一卖算交易\n",
    "\n",
    "    def notify_trade(self, trade):\n",
    "        if not trade.isclosed:\n",
    "            return\n",
    "        self.log('交易利润, 毛利润 %.2f, 净利润 %.2f' %\n",
    "                 (trade.pnl, trade.pnlcomm))\n",
    "\n",
    "    def notify_order(self, order):\n",
    "        if order.status in [order.Submitted, order.Accepted]:\n",
    "            # broker 提交/接受了，买/卖订单则什么都不做\n",
    "            return\n",
    "\n",
    "        # 检查一个订单是否完成\n",
    "        # 注意: 当资金不足时，broker会拒绝订单\n",
    "        if order.status in [order.Completed]:\n",
    "            if order.isbuy():\n",
    "                self.log(\n",
    "                    '已买入, 价格: %.2f, 费用: %.2f, 佣金 %.2f' %\n",
    "                    (order.executed.price,\n",
    "                     order.executed.value,\n",
    "                     order.executed.comm))\n",
    "                self.buyprice = order.executed.price\n",
    "                self.buycomm = order.executed.comm\n",
    "\n",
    "            elif order.issell():\n",
    "                self.log('已卖出, 价格: %.2f, 费用: %.2f, 佣金 %.2f' %\n",
    "                         (order.executed.price,\n",
    "                          order.executed.value,\n",
    "                          order.executed.comm))\n",
    "                self.log('已卖出, 数量: %s' %\n",
    "                         (order.executed.size))\n",
    "\n",
    "            # 记录当前交易数量\n",
    "            self.bar_executed = len(self)\n",
    "\n",
    "        elif order.status in [order.Canceled, order.Margin, order.Rejected]:\n",
    "            self.log('订单取消/保证金不足/拒绝')\n",
    "\n",
    "        # 其他状态记录为：无挂起订单\n",
    "        self.order = None\n",
    "\n",
    "    def next(self):\n",
    "        # 记录收盘价\n",
    "        self.log('Close, %.2f' % self.dataclose[0])\n",
    "\n",
    "        # 如果有订单正在挂起，不操作\n",
    "        if self.order:\n",
    "            return\n",
    "\n",
    "        # 如果没有持仓则买入\n",
    "        if not self.position:\n",
    "            # 今天的收盘价 < 昨天收盘价\n",
    "            if self.dataclose[0] > self.sma[0]:\n",
    "                # 昨天收盘价 < 前天的收盘价\n",
    "                # 买入\n",
    "                self.log('买入, %.2f' % self.dataclose[0])\n",
    "                # 跟踪订单避免重复\n",
    "                self.order = self.buy()\n",
    "        else:\n",
    "            # 如果已经持仓，且当前交易数据量在买入后5个单位后\n",
    "            if self.dataclose[0] < self.sma[0]:\n",
    "                # 全部卖出\n",
    "                self.log('卖出, %.2f' % self.dataclose[0])\n",
    "                # 跟踪订单避免重复\n",
    "                self.order = self.sell()"
   ]
  },
  {
   "cell_type": "code",
   "execution_count": 10,
   "id": "fa4839f0",
   "metadata": {},
   "outputs": [],
   "source": [
    "    # 创建交易数据集\n",
    "data = bt.feeds.YahooFinanceCSVData(\n",
    "    dataname=\"orcl-1995-2014-1.csv\",\n",
    "    # 数据必须大于fromdate\n",
    "    fromdate=datetime.datetime(2000, 1, 1),\n",
    "    # 数据必须小于todate\n",
    "    todate=datetime.datetime(2000, 12, 31),\n",
    "    reverse=False)\n"
   ]
  },
  {
   "cell_type": "code",
   "execution_count": 11,
   "id": "d7a4c88e",
   "metadata": {
    "scrolled": true
   },
   "outputs": [
    {
     "name": "stdout",
     "output_type": "stream",
     "text": [
      "资金:1000.00\n"
     ]
    }
   ],
   "source": [
    "cerebro=bt.Cerebro();\n",
    "cerebro.broker.setcash(1000.0)\n",
    "    # 设置佣金为0.001,除以100去掉%号\n",
    "cerebro.broker.setcommission(commission=0.0)\n",
    "cerebro.addsizer(bt.sizers.FixedSize,stake=10)\n",
    "cerebro.adddata(data)\n",
    "print(\"资金:%.2f\" % cerebro.broker.getvalue())"
   ]
  },
  {
   "cell_type": "code",
   "execution_count": null,
   "id": "7482f68c",
   "metadata": {},
   "outputs": [],
   "source": [
    "cerebro.strats.clear()\n",
    "aa=range(10, 31)\n",
    "cerebro.optstrategy(TestStrategy,maperiod=aa)\n",
    "cerebro\n",
    "cerebro.run(maxcpus=1)\n"
   ]
  },
  {
   "cell_type": "code",
   "execution_count": null,
   "id": "b8f97142",
   "metadata": {
    "scrolled": false
   },
   "outputs": [],
   "source": [
    "cerebro.plot()"
   ]
  },
  {
   "cell_type": "code",
   "execution_count": null,
   "id": "9ccb743f",
   "metadata": {
    "scrolled": false
   },
   "outputs": [],
   "source": [
    "from backtrader_plotting.schemes import Tradimo\n",
    "from backtrader_plotting.bokeh.optbrowser import OptBrowser\n",
    "\n",
    "# b = Bokeh(style='bar')\n",
    "b = Bokeh(style='bar', scheme=Tradimo())\n",
    "# cerebro.plot(b)\n",
    "\n",
    "browser = OptBrowser(b, result)\n",
    "browser.start()\n"
   ]
  },
  {
   "cell_type": "code",
   "execution_count": null,
   "id": "06aa717a",
   "metadata": {
    "scrolled": false
   },
   "outputs": [],
   "source": [
    "from backtrader_plotting.schemes import Tradimo\n",
    "from backtrader_plotting.bokeh.optbrowser import OptBrowser\n",
    "\n",
    "# b = Bokeh(style='bar')\n",
    "b = Bokeh(style='bar', scheme=Tradimo())\n",
    "cerebro.plot(b)\n",
    "\n"
   ]
  },
  {
   "cell_type": "code",
   "execution_count": null,
   "id": "7c158edc",
   "metadata": {},
   "outputs": [],
   "source": []
  }
 ],
 "metadata": {
  "kernelspec": {
   "display_name": "Python [conda env:.conda-xin] *",
   "language": "python",
   "name": "conda-env-.conda-xin-py"
  },
  "language_info": {
   "codemirror_mode": {
    "name": "ipython",
    "version": 3
   },
   "file_extension": ".py",
   "mimetype": "text/x-python",
   "name": "python",
   "nbconvert_exporter": "python",
   "pygments_lexer": "ipython3",
   "version": "3.7.1"
  },
  "varInspector": {
   "cols": {
    "lenName": 16,
    "lenType": 16,
    "lenVar": 40
   },
   "kernels_config": {
    "python": {
     "delete_cmd_postfix": "",
     "delete_cmd_prefix": "del ",
     "library": "var_list.py",
     "varRefreshCmd": "print(var_dic_list())"
    },
    "r": {
     "delete_cmd_postfix": ") ",
     "delete_cmd_prefix": "rm(",
     "library": "var_list.r",
     "varRefreshCmd": "cat(var_dic_list()) "
    }
   },
   "types_to_exclude": [
    "module",
    "function",
    "builtin_function_or_method",
    "instance",
    "_Feature"
   ],
   "window_display": false
  }
 },
 "nbformat": 4,
 "nbformat_minor": 5
}

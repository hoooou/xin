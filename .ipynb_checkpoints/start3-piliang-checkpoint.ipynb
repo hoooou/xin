{
 "cells": [
  {
   "cell_type": "code",
   "execution_count": 52,
   "id": "35aab392",
   "metadata": {},
   "outputs": [],
   "source": [
    "import backtrader as bt\n",
    "import datetime as datetime\n",
    "from backtrader_plotting import Bokeh"
   ]
  },
  {
   "cell_type": "code",
   "execution_count": 53,
   "id": "f95ff47f",
   "metadata": {},
   "outputs": [],
   "source": [
    "# 创建策略继承bt.Strategy\n",
    "class TestStrategy(bt.Strategy):\n",
    "    params = (\n",
    "        # 持仓够5个单位就卖出\n",
    "        ('exitbars', 5),\n",
    "        ('maperiod', 10),\n",
    "    )\n",
    "\n",
    "    def log(self, txt, dt=None, printLog=False):\n",
    "        # 记录策略的执行日志\n",
    "        dt = dt or self.datas[0].datetime.date(0)\n",
    "        if printLog:\n",
    "            print('%s, %s \\n' % (dt.isoformat(), txt))\n",
    "\n",
    "    def stop(self):\n",
    "        self.log(\"(均线周期 %d)期末资金 %.2f\" %\n",
    "                 (self.params.maperiod, self.broker.getvalue()), printLog=True)\n",
    "\n",
    "    def __init__(self):\n",
    "        # 保存收盘价的引用\n",
    "        self.dataclose = self.datas[0].close\n",
    "        self.sma = bt.indicators.MovingAverageSimple(\n",
    "            self.datas[0], period=self.params.maperiod)\n",
    "#         bt.indicators.ExponentialMovingAverage(self.datas[0], period=25)\n",
    "#         bt.indicators.WeightedMovingAverage(self.datas[0], period=25).subplot = True\n",
    "#         self.rsi = bt.indicators.RSI(self.sma)\n",
    "#         bt.indicators.SmoothedMovingAverage(self.rsi, period=10)\n",
    "#         bt.indicators.ATR(self.datas[0]).plot = False\n",
    "#         bt.indicators.StochasticSlow(self.datas[0])\n",
    "#         self.macd=bt.indicators.MACDHisto(self.datas[0])\n",
    "\n",
    "        # 跟踪挂单\n",
    "        self.order = None\n",
    "        # 买入价格和手续费\n",
    "        self.buyprice = None\n",
    "        self.buycomm = None\n",
    "\n",
    "    # 交易状态通知，一买一卖算交易\n",
    "\n",
    "    def notify_trade(self, trade):\n",
    "        if not trade.isclosed:\n",
    "            return\n",
    "        self.log('交易利润, 毛利润 %.2f, 净利润 %.2f' %\n",
    "                 (trade.pnl, trade.pnlcomm))\n",
    "\n",
    "    def notify_order(self, order):\n",
    "        if order.status in [order.Submitted, order.Accepted]:\n",
    "            # broker 提交/接受了，买/卖订单则什么都不做\n",
    "            return\n",
    "\n",
    "        # 检查一个订单是否完成\n",
    "        # 注意: 当资金不足时，broker会拒绝订单\n",
    "        if order.status in [order.Completed]:\n",
    "            if order.isbuy():\n",
    "                self.log(\n",
    "                    '已买入, 价格: %.2f, 费用: %.2f, 佣金 %.2f' %\n",
    "                    (order.executed.price,\n",
    "                     order.executed.value,\n",
    "                     order.executed.comm))\n",
    "                self.buyprice = order.executed.price\n",
    "                self.buycomm = order.executed.comm\n",
    "\n",
    "            elif order.issell():\n",
    "                self.log('已卖出, 价格: %.2f, 费用: %.2f, 佣金 %.2f' %\n",
    "                         (order.executed.price,\n",
    "                          order.executed.value,\n",
    "                          order.executed.comm))\n",
    "                self.log('已卖出, 数量: %s' %\n",
    "                         (order.executed.size))\n",
    "\n",
    "            # 记录当前交易数量\n",
    "            self.bar_executed = len(self)\n",
    "\n",
    "        elif order.status in [order.Canceled, order.Margin, order.Rejected]:\n",
    "            self.log('订单取消/保证金不足/拒绝')\n",
    "\n",
    "        # 其他状态记录为：无挂起订单\n",
    "        self.order = None\n",
    "\n",
    "    def next(self):\n",
    "        # 记录收盘价\n",
    "        self.log('Close, %.2f' % self.dataclose[0])\n",
    "\n",
    "        # 如果有订单正在挂起，不操作\n",
    "        if self.order:\n",
    "            return\n",
    "\n",
    "        # 如果没有持仓则买入\n",
    "        if not self.position:\n",
    "            # 今天的收盘价 < 昨天收盘价\n",
    "            if self.dataclose[0] > self.sma[0]:\n",
    "                # 昨天收盘价 < 前天的收盘价\n",
    "                # 买入\n",
    "                self.log('买入, %.2f' % self.dataclose[0])\n",
    "                # 跟踪订单避免重复\n",
    "                self.order = self.buy()\n",
    "        else:\n",
    "            # 如果已经持仓，且当前交易数据量在买入后5个单位后\n",
    "            if self.dataclose[0] < self.sma[0]:\n",
    "                # 全部卖出\n",
    "                self.log('卖出, %.2f' % self.dataclose[0])\n",
    "                # 跟踪订单避免重复\n",
    "                self.order = self.sell()"
   ]
  },
  {
   "cell_type": "code",
   "execution_count": 54,
   "id": "fa4839f0",
   "metadata": {},
   "outputs": [],
   "source": [
    "    # 创建交易数据集\n",
    "data = bt.feeds.YahooFinanceCSVData(\n",
    "    dataname=\"orcl-1995-2014-1.csv\",\n",
    "    # 数据必须大于fromdate\n",
    "    fromdate=datetime.datetime(2000, 1, 1),\n",
    "    # 数据必须小于todate\n",
    "    todate=datetime.datetime(2000, 12, 31),\n",
    "    reverse=False)\n"
   ]
  },
  {
   "cell_type": "code",
   "execution_count": 55,
   "id": "d7a4c88e",
   "metadata": {
    "scrolled": true
   },
   "outputs": [
    {
     "name": "stdout",
     "output_type": "stream",
     "text": [
      "资金:1000.00\n"
     ]
    }
   ],
   "source": [
    "cerebro=bt.Cerebro();\n",
    "cerebro.broker.setcash(1000.0)\n",
    "    # 设置佣金为0.001,除以100去掉%号\n",
    "cerebro.broker.setcommission(commission=0.0)\n",
    "cerebro.addsizer(bt.sizers.FixedSize,stake=10)\n",
    "cerebro.adddata(data)\n",
    "print(\"资金:%.2f\" % cerebro.broker.getvalue())"
   ]
  },
  {
   "cell_type": "code",
   "execution_count": 75,
   "id": "7482f68c",
   "metadata": {},
   "outputs": [
    {
     "name": "stdout",
     "output_type": "stream",
     "text": [
      "2000-12-29, (均线周期 17)期末资金 949.80 \n",
      "\n",
      "2000-12-29, (均线周期 16)期末资金 959.40 \n",
      "\n",
      "2000-12-29, (均线周期 13)期末资金 893.90 \n",
      "2000-12-29, (均线周期 15)期末资金 973.90 \n",
      "\n",
      "\n",
      "2000-12-29, (均线周期 14)期末资金 896.90 \n",
      "\n",
      "2000-12-29, (均线周期 12)期末资金 830.30 \n",
      "2000-12-29, (均线周期 10)期末资金 880.30 \n",
      "2000-12-29, (均线周期 11)期末资金 880.00 \n",
      "\n",
      "\n",
      "\n",
      "2000-12-29, (均线周期 22)期末资金 1061.50 \n",
      "\n",
      "2000-12-29, (均线周期 24)期末资金 1020.10 \n",
      "\n",
      "2000-12-29, (均线周期 19)期末资金 1041.90 \n",
      "\n",
      "2000-12-29, (均线周期 18)期末资金 1011.90 \n",
      "2000-12-29, (均线周期 25)期末资金 1013.30 \n",
      "2000-12-29, (均线周期 20)期末资金 1078.00 \n",
      "2000-12-29, (均线周期 23)期末资金 1023.00 \n",
      "\n",
      "\n",
      "\n",
      "\n",
      "2000-12-29, (均线周期 21)期末资金 1058.80 \n",
      "\n",
      "2000-12-29, (均线周期 26)期末资金 998.30 \n",
      "\n",
      "2000-12-29, (均线周期 30)期末资金 979.80 \n",
      "2000-12-29, (均线周期 27)期末资金 982.20 \n",
      "\n",
      "\n",
      "2000-12-29, (均线周期 28)期末资金 975.70 \n",
      "\n",
      "2000-12-29, (均线周期 29)期末资金 983.30 \n",
      "\n"
     ]
    },
    {
     "data": {
      "text/plain": [
       "[[<backtrader.cerebro.OptReturn at 0x7f9e23fee450>],\n",
       " [<backtrader.cerebro.OptReturn at 0x7f9e22a9b8d0>],\n",
       " [<backtrader.cerebro.OptReturn at 0x7f9e22a9b450>],\n",
       " [<backtrader.cerebro.OptReturn at 0x7f9e1ca39290>],\n",
       " [<backtrader.cerebro.OptReturn at 0x7f9e23fee850>],\n",
       " [<backtrader.cerebro.OptReturn at 0x7f9e23feead0>],\n",
       " [<backtrader.cerebro.OptReturn at 0x7f9e22a97c50>],\n",
       " [<backtrader.cerebro.OptReturn at 0x7f9e22a97a50>],\n",
       " [<backtrader.cerebro.OptReturn at 0x7f9e22a9bbd0>],\n",
       " [<backtrader.cerebro.OptReturn at 0x7f9e22a9be90>],\n",
       " [<backtrader.cerebro.OptReturn at 0x7f9e22a9bd90>],\n",
       " [<backtrader.cerebro.OptReturn at 0x7f9e22a9b890>],\n",
       " [<backtrader.cerebro.OptReturn at 0x7f9e22a97ed0>],\n",
       " [<backtrader.cerebro.OptReturn at 0x7f9e22a9b650>],\n",
       " [<backtrader.cerebro.OptReturn at 0x7f9e22a9bad0>],\n",
       " [<backtrader.cerebro.OptReturn at 0x7f9e22a9bb50>],\n",
       " [<backtrader.cerebro.OptReturn at 0x7f9e22a9b910>],\n",
       " [<backtrader.cerebro.OptReturn at 0x7f9e22a9b750>],\n",
       " [<backtrader.cerebro.OptReturn at 0x7f9e22a9b150>],\n",
       " [<backtrader.cerebro.OptReturn at 0x7f9e22a9b610>],\n",
       " [<backtrader.cerebro.OptReturn at 0x7f9e22a9b0d0>]]"
      ]
     },
     "execution_count": 75,
     "metadata": {},
     "output_type": "execute_result"
    }
   ],
   "source": [
    "cerebro.strats.clear()\n",
    "aa=range(10, 31)\n",
    "cerebro.optstrategy(TestStrategy,maperiod=aa)\n",
    "\n",
    "cerebro.run()\n"
   ]
  },
  {
   "cell_type": "code",
   "execution_count": 57,
   "id": "b8f97142",
   "metadata": {},
   "outputs": [
    {
     "ename": "AttributeError",
     "evalue": "'OptReturn' object has no attribute 'datas'",
     "output_type": "error",
     "traceback": [
      "\u001b[0;31m---------------------------------------------------------------------------\u001b[0m",
      "\u001b[0;31mAttributeError\u001b[0m                            Traceback (most recent call last)",
      "\u001b[0;32m/var/folders/d3/yd81q2kj21n5y4zlfx0_gqtw0000gn/T/ipykernel_18436/129914532.py\u001b[0m in \u001b[0;36m<module>\u001b[0;34m\u001b[0m\n\u001b[0;32m----> 1\u001b[0;31m \u001b[0mcerebro\u001b[0m\u001b[0;34m.\u001b[0m\u001b[0mplot\u001b[0m\u001b[0;34m(\u001b[0m\u001b[0;34m)\u001b[0m\u001b[0;34m\u001b[0m\u001b[0;34m\u001b[0m\u001b[0m\n\u001b[0m",
      "\u001b[0;32m~/.conda/envs/xin/lib/python3.7/site-packages/backtrader/cerebro.py\u001b[0m in \u001b[0;36mplot\u001b[0;34m(self, plotter, numfigs, iplot, start, end, width, height, dpi, tight, use, **kwargs)\u001b[0m\n\u001b[1;32m    989\u001b[0m                 rfig = plotter.plot(strat, figid=si * 100,\n\u001b[1;32m    990\u001b[0m                                     \u001b[0mnumfigs\u001b[0m\u001b[0;34m=\u001b[0m\u001b[0mnumfigs\u001b[0m\u001b[0;34m,\u001b[0m \u001b[0miplot\u001b[0m\u001b[0;34m=\u001b[0m\u001b[0miplot\u001b[0m\u001b[0;34m,\u001b[0m\u001b[0;34m\u001b[0m\u001b[0;34m\u001b[0m\u001b[0m\n\u001b[0;32m--> 991\u001b[0;31m                                     start=start, end=end, use=use)\n\u001b[0m\u001b[1;32m    992\u001b[0m                 \u001b[0;31m# pfillers=pfillers2)\u001b[0m\u001b[0;34m\u001b[0m\u001b[0;34m\u001b[0m\u001b[0;34m\u001b[0m\u001b[0m\n\u001b[1;32m    993\u001b[0m \u001b[0;34m\u001b[0m\u001b[0m\n",
      "\u001b[0;32m~/.conda/envs/xin/lib/python3.7/site-packages/backtrader/plot/plot.py\u001b[0m in \u001b[0;36mplot\u001b[0;34m(self, strategy, figid, numfigs, iplot, start, end, **kwargs)\u001b[0m\n\u001b[1;32m    117\u001b[0m              start=None, end=None, **kwargs):\n\u001b[1;32m    118\u001b[0m         \u001b[0;31m# pfillers={}):\u001b[0m\u001b[0;34m\u001b[0m\u001b[0;34m\u001b[0m\u001b[0;34m\u001b[0m\u001b[0m\n\u001b[0;32m--> 119\u001b[0;31m         \u001b[0;32mif\u001b[0m \u001b[0;32mnot\u001b[0m \u001b[0mstrategy\u001b[0m\u001b[0;34m.\u001b[0m\u001b[0mdatas\u001b[0m\u001b[0;34m:\u001b[0m\u001b[0;34m\u001b[0m\u001b[0;34m\u001b[0m\u001b[0m\n\u001b[0m\u001b[1;32m    120\u001b[0m             \u001b[0;32mreturn\u001b[0m\u001b[0;34m\u001b[0m\u001b[0;34m\u001b[0m\u001b[0m\n\u001b[1;32m    121\u001b[0m \u001b[0;34m\u001b[0m\u001b[0m\n",
      "\u001b[0;31mAttributeError\u001b[0m: 'OptReturn' object has no attribute 'datas'"
     ]
    }
   ],
   "source": [
    "cerebro.plot()"
   ]
  },
  {
   "cell_type": "code",
   "execution_count": null,
   "id": "9ccb743f",
   "metadata": {
    "scrolled": false
   },
   "outputs": [],
   "source": [
    "from backtrader_plotting.schemes import Tradimo\n",
    "from backtrader_plotting.bokeh.optbrowser import OptBrowser\n",
    "\n",
    "# b = Bokeh(style='bar')\n",
    "b = Bokeh(style='bar', scheme=Tradimo())\n",
    "# cerebro.plot(b)\n",
    "\n",
    "browser = OptBrowser(b, result)\n",
    "browser.start()\n"
   ]
  },
  {
   "cell_type": "code",
   "execution_count": null,
   "id": "06aa717a",
   "metadata": {
    "scrolled": false
   },
   "outputs": [],
   "source": [
    "from backtrader_plotting.schemes import Tradimo\n",
    "from backtrader_plotting.bokeh.optbrowser import OptBrowser\n",
    "\n",
    "# b = Bokeh(style='bar')\n",
    "b = Bokeh(style='bar', scheme=Tradimo())\n",
    "cerebro.plot(b)\n",
    "\n"
   ]
  },
  {
   "cell_type": "code",
   "execution_count": null,
   "id": "7c158edc",
   "metadata": {},
   "outputs": [],
   "source": []
  }
 ],
 "metadata": {
  "kernelspec": {
   "display_name": "Python 3 (ipykernel)",
   "language": "python",
   "name": "python3"
  },
  "language_info": {
   "codemirror_mode": {
    "name": "ipython",
    "version": 3
   },
   "file_extension": ".py",
   "mimetype": "text/x-python",
   "name": "python",
   "nbconvert_exporter": "python",
   "pygments_lexer": "ipython3",
   "version": "3.7.11"
  }
 },
 "nbformat": 4,
 "nbformat_minor": 5
}
